{
 "cells": [
  {
   "cell_type": "code",
   "execution_count": 89,
   "metadata": {},
   "outputs": [],
   "source": [
    "import os\n",
    "import itertools\n",
    "from pysat.solvers import Glucose3\n",
    "\n",
    "from colorama import Back"
   ]
  },
  {
   "cell_type": "code",
   "execution_count": 90,
   "metadata": {},
   "outputs": [],
   "source": [
    "class ColorTable:\n",
    "    def __init__(self):\n",
    "        self.rows = 0\n",
    "        self.columns = 0\n",
    "        self.matrix = []\n",
    "        self.matrix1d = []\n",
    "        \n",
    "    def load_table(self,filename):\n",
    "        #load file into matrix\n",
    "        if not os.path.exists(filename):\n",
    "            raise Exception(\"No file Founded\")\n",
    "        f = open(filename,'r')\n",
    "        firstline = f.readline()\n",
    "        self.rows,self.columns = int(firstline.split()[0]),int(firstline.split()[1])\n",
    "        self.transform_matrix_to_1d_array()\n",
    "        for line in f:\n",
    "            l=[]\n",
    "            for i in line:\n",
    "                if i =='\\n' or i==\" \" or i==None:\n",
    "                    continue\n",
    "                if i.isnumeric() :\n",
    "                    l.append(int(i))\n",
    "                else:\n",
    "                    l.append(i)\n",
    "            self.matrix.append(l)\n",
    "            \n",
    "    def transform_matrix_to_1d_array(self):\n",
    "        for i in range(self.columns):\n",
    "            sublist = []\n",
    "            for num in range((i * self.rows) + 1, (i + 1) * self.rows + 1):\n",
    "                sublist.append(num)\n",
    "            self.matrix1d.append(sublist)\n",
    "            \n",
    "    def printMatrix(self):\n",
    "      for i in self.matrix:\n",
    "        print(i)\n",
    "        \n",
    "    def get_surrounding(self,i:int,j:int):\n",
    "        surrounding_elements =[self.matrix1d[i][j]]\n",
    "        for k in range(i-1,i+2):\n",
    "            if (k < 0 or k >= len(self.matrix1d)):\n",
    "                continue\n",
    "            for h in range(j-1,j+2):\n",
    "                if (h < 0 or h >= len(self.matrix1d[0])):\n",
    "                    continue\n",
    "                else:\n",
    "                    if not(k==i and h==j):\n",
    "                        surrounding_elements.append(self.matrix1d[k][h])    \n",
    "        return surrounding_elements\n",
    "                    \n",
    "    def generate_clause(self,surrounding_list:list,element_value:int):\n",
    "        result=[]\n",
    "        for i in itertools.combinations(surrounding_list,element_value+1):\n",
    "            k=[]\n",
    "            for j in i:\n",
    "                k.append(-j)\n",
    "            result.append(k)\n",
    "        for i  in itertools.combinations(surrounding_list,len(surrounding_list)-element_value+1):\n",
    "            result.append(list(i))\n",
    "        return result\n",
    "    \n",
    "    def solve(self):\n",
    "        cnf=Glucose3()\n",
    "        for i in range(self.rows):\n",
    "            for j in range(self.columns):\n",
    "                if isinstance(self.matrix[i][j],int):\n",
    "                    surrounds=self.get_surrounding(i,j)\n",
    "                    clauses = self.generate_clause(surrounds,self.matrix[i][j])\n",
    "                    for k in clauses:\n",
    "                        cnf.add_clause(k)\n",
    "        if cnf.solve():\n",
    "            result=cnf.get_model()\n",
    "            counter=0\n",
    "            for i in range(len(self.matrix)):\n",
    "                for j in range(len(self.matrix[0])):\n",
    "                    item= self.matrix[i][j]\n",
    "                    if isinstance(item,int) or item=='.':\n",
    "                        if result[counter] >0:\n",
    "                            print(Back.GREEN+str(item),end='')\n",
    "                        else:\n",
    "                            print(Back.RED+str(item),end='')\n",
    "                    counter+=1\n",
    "                print()\n",
    "        else :\n",
    "            return \"Not good\"\n",
    "\n",
    "                "
   ]
  },
  {
   "cell_type": "code",
   "execution_count": 93,
   "metadata": {},
   "outputs": [
    {
     "name": "stdout",
     "output_type": "stream",
     "text": [
      "[-1, -2, 3, -4, -5, -6, 7, 8, -9]\n",
      "\u001b[41m0\u001b[41m.\u001b[42m1\n",
      "\u001b[41m.\u001b[41m.\u001b[41m.\n",
      "\u001b[42m2\u001b[42m.\u001b[41m1\n",
      "None\n"
     ]
    }
   ],
   "source": [
    "foo = ColorTable()\n",
    "foo.load_table(\"test1.txt\")\n",
    "print(foo.solve())\n"
   ]
  }
 ],
 "metadata": {
  "kernelspec": {
   "display_name": "Python 3",
   "language": "python",
   "name": "python3"
  },
  "language_info": {
   "codemirror_mode": {
    "name": "ipython",
    "version": 3
   },
   "file_extension": ".py",
   "mimetype": "text/x-python",
   "name": "python",
   "nbconvert_exporter": "python",
   "pygments_lexer": "ipython3",
   "version": "3.10.0"
  },
  "orig_nbformat": 4
 },
 "nbformat": 4,
 "nbformat_minor": 2
}
